{
 "cells": [
  {
   "cell_type": "markdown",
   "id": "cae906ae",
   "metadata": {},
   "source": [
    "# KG-Hub: Getting Started (from scratch)"
   ]
  },
  {
   "cell_type": "markdown",
   "id": "2255d9f4",
   "metadata": {},
   "source": [
    "This notebook serves as a walkthrough for creating a KG-Hub project, building a new graph, and using the graph for machine learning. Some familiarity with the command line, GitHub, and Python will be helpful."
   ]
  },
  {
   "cell_type": "markdown",
   "id": "61270fba",
   "metadata": {},
   "source": [
    "## KG-Hub basics"
   ]
  },
  {
   "cell_type": "markdown",
   "id": "42dbf0e1",
   "metadata": {},
   "source": [
    "The purpose of Knowledge Graph Hub (KG-Hub) is to provide a platform for building knowledge graphs (KGs) by adopting a set of guidelines and design principles. The goal of KG-Hub is to serve as a collective resource to simplify the process of generating biological and biomedical KGs and thus reducing the barrier for entry to new participants.\n",
    "\n",
    "Each independent effort for building a KG is considered a KG-Hub project.\n",
    "\n",
    "Projects include a code repository and a storage location for each set of graph products. Repositories are generally on GitHub and storage is available on https://kg-hub.berkeleybop.io/.\n",
    "\n",
    "For example, the following are all KG-Hub project repositories and storage locations:\n",
    "\n"
   ]
  },
  {
   "cell_type": "markdown",
   "id": "656d54e1",
   "metadata": {},
   "source": [
    "| **Name**    | **Repository**                                     | **Graphs**                                 |\n",
    "|-------------|----------------------------------------------------|--------------------------------------------|\n",
    "| KG-COVID-19 | https://github.com/Knowledge-Graph-Hub/kg-covid-19 | https://kg-hub.berkeleybop.io/kg-covid-19/ |\n",
    "| KG-IDG      | https://github.com/Knowledge-Graph-Hub/kg-idg      | https://kg-hub.berkeleybop.io/kg-idg/      |\n",
    "| KG-OBO      | https://github.com/Knowledge-Graph-Hub/kg-obo      | https://kg-hub.berkeleybop.io/kg-obo/      |"
   ]
  },
  {
   "cell_type": "markdown",
   "id": "e0e47017",
   "metadata": {},
   "source": [
    "\n",
    "Each project *should*:\n",
    "* live in its own GitHub repository within the [Knowledge-Graph-Hub](https://github.com/Knowledge-Graph-Hub/) organization.\n",
    "* have enough code and/or configurations for Extract, Transform, and Load (ETL) to yield a reproducible product.\n",
    "* model data using the [Biolink Model](https://biolink.github.io/biolink-model/), where possible.\n",
    "* make use of ontologies from the [OBO Foundry](http://www.obofoundry.org/), where possible.\n",
    "* be responsible for the veracity of the datasets that they ingest \n",
    "* be responsible for keeping track of evidence and provenance for assertions in their KG.\n",
    "* provide their KG for download, following [semantic versioning guidelines](https://semver.org/).\n",
    "* provide their KG in the [KGX interchange format](https://github.com/biolink/kgx/blob/master/specification/kgx-format.md) in addition to their format of choice (e.g., n-triples).\n",
    "\n",
    "We also *highly recommend* including the following in the repository: \n",
    "* a README describing the intended purpose of the KG and its contributors\n",
    "* a License (as its own LICENSE file) \n",
    "* Contributing guidelines\n",
    "* a Code of Conduct\n",
    "* statements emphasizing how the KG and KG-Hub are open to the community for contributions as well as consumption"
   ]
  },
  {
   "cell_type": "markdown",
   "id": "f316c89d",
   "metadata": {},
   "source": [
    "## Planning and setup"
   ]
  },
  {
   "cell_type": "markdown",
   "id": "40629ab9",
   "metadata": {},
   "source": [
    "You likely already found the KG-Hub project template repository - that's where this notebook is.\n",
    "If you found this someplace else, the template repository is https://github.com/Knowledge-Graph-Hub/kg-dtm-template.\n",
    "\n",
    "First, create a name for your project repository. In KG-Hub, most projects include **KG** somewhere, e.g., \"KG-Squid\" or \"KG-Mimivirus-Proteomics\".\n",
    "\n",
    "Make a new repository for your project, based on the template, in one of the following two ways:\n",
    "* [Follow the browser-based directions here.](https://docs.github.com/en/repositories/creating-and-managing-repositories/creating-a-repository-from-a-template)\n",
    "* Use the GitHub command line interface. This may be a preferable option if you're using a Windows command line and don't want to use a browser interface. Follow the [install instructions here](https://cli.github.com/manual/installation) as needed, then run:\n"
   ]
  },
  {
   "cell_type": "code",
   "execution_count": null,
   "id": "4c344976",
   "metadata": {},
   "outputs": [],
   "source": [
    "!cd ~/ \n",
    "!gh repo create kg-project-name --public --clone --template https://github.com/Knowledge-Graph-Hub/kg-dtm-template"
   ]
  },
  {
   "cell_type": "markdown",
   "id": "b288796f",
   "metadata": {},
   "source": [
    "Next, select a name for your project. It should resemble your repository name, though any dashes will need to be changed to underscores.\n",
    "\n",
    "Change the values below to your repository name so they may be used later in the walkthrough."
   ]
  },
  {
   "cell_type": "code",
   "execution_count": 6,
   "id": "00bc73cb",
   "metadata": {},
   "outputs": [],
   "source": [
    "kg_repo_name = \"kg-placeholder-name\"\n",
    "kg_project_name = \"kg_placeholder_name\""
   ]
  },
  {
   "cell_type": "markdown",
   "id": "db72e359",
   "metadata": {},
   "source": [
    "Define some additional details so they may be used later as well."
   ]
  },
  {
   "cell_type": "code",
   "execution_count": 9,
   "id": "f9698510",
   "metadata": {},
   "outputs": [],
   "source": [
    "description = '' # A short description of the project\n",
    "long_description = '' # A slightly less short description of the project\n",
    "gh_name = '' # Your GitHub user name, assuming that you created the project repository in your own account.\n",
    "author_name = '' # Your name\n",
    "author_email = '' # Your email address"
   ]
  },
  {
   "cell_type": "markdown",
   "id": "45350acb",
   "metadata": {},
   "source": [
    "## Walking through the KG project"
   ]
  },
  {
   "cell_type": "markdown",
   "id": "7e25f2ea",
   "metadata": {},
   "source": [
    "Each KG project in KG-Hub is generally structured like this (with some omissions for clarity):\n",
    "```\n",
    "📦kg-project-name\n",
    " ┣ 📂kg_project_name\n",
    " ┃ ┣ 📂merge_utils\n",
    " ┃ ┃ ┗ 📜merge_kg.py - this produces the final, merged KG\n",
    " ┃ ┣ 📂transform_utils - data source-specific transformation functions\n",
    " ┃ ┃ ┣ 📂transform_one\n",
    " ┃ ┃ ┃ ┗ 📜transform_one.py\n",
    " ┃ ┃ ┣ 📂transform_two\n",
    " ┃ ┃ ┃ ┗ 📜transform_two.py\n",
    " ┃ ┃ ┗ 📜transform.py - sets defaults for transform outputs\n",
    " ┃ ┣ 📂utils - utilities and helper functions\n",
    " ┃ ┃ ┣ 📜download_utils.py\n",
    " ┃ ┃ ┣ 📜robot_utils.py - utilities for working with the ROBOT tool\n",
    " ┃ ┃ ┗ 📜transform_utils.py\n",
    " ┃ ┣ 📜download.py \n",
    " ┃ ┗ 📜transform.py - sets up the individual transformations\n",
    " ┣ 📂tests\n",
    " ┃ ┣ 📂resources\n",
    " ┃ ┃ ┣ files required to run the tests\n",
    " ┃ ┣ various tests\n",
    " ┣ 📜LICENSE.txt\n",
    " ┣ 📜README.md - modify as needed\n",
    " ┣ 📜download.yaml - the download configuration file\n",
    " ┣ 📜merge.yaml - the merge configuration file\n",
    " ┣ 📜requirements.txt - empty by default, but add any new requirements here\n",
    " ┣ 📜run.py - the main interface for downloading, transforming, and merging\n",
    " ┗ 📜setup.py\n",
    "```"
   ]
  },
  {
   "cell_type": "markdown",
   "id": "6a62dd5b",
   "metadata": {},
   "source": [
    "The general process of *defining* how to assemble a KG looks like this:\n",
    "1. Add data sources to `download.yaml`.\n",
    "2. Add a new transform to `transform.py` and in the `transform_utils` directory to handle the new data source. If the data source is already a set of KGX tsv node and edgelists, then it may only require a 'passthrough' tranform (i.e., files aren't modified but may be validated and moved). \n",
    "3. Modify `merge.yaml` to include the new sources."
   ]
  },
  {
   "cell_type": "markdown",
   "id": "4fea6ea0",
   "metadata": {},
   "source": [
    "The general process of *assembling* the KG looks like this. Even if you haven't changed much in the new project yet, these commands will still retrieve several files, transform them, and merge them into a graph."
   ]
  },
  {
   "cell_type": "code",
   "execution_count": 2,
   "id": "03e33772",
   "metadata": {},
   "outputs": [
    {
     "name": "stdout",
     "output_type": "stream",
     "text": [
      "Downloading files: 100%|██████████████████████████| 6/6 [00:03<00:00,  1.58it/s]\n"
     ]
    }
   ],
   "source": [
    "!python run.py download"
   ]
  },
  {
   "cell_type": "code",
   "execution_count": null,
   "id": "c2842d6b",
   "metadata": {},
   "outputs": [],
   "source": [
    "!python run.py transform"
   ]
  },
  {
   "cell_type": "code",
   "execution_count": null,
   "id": "cacd7d9d",
   "metadata": {},
   "outputs": [],
   "source": [
    "!python run.py merge"
   ]
  },
  {
   "cell_type": "markdown",
   "id": "84a06d5b",
   "metadata": {},
   "source": [
    "## Customizing your new KG project"
   ]
  },
  {
   "cell_type": "markdown",
   "id": "2a3f7738",
   "metadata": {},
   "source": [
    "Before going any further, open the project in your favorite development environment. You will need to replace all instances of `project_name` with your project's name.\n",
    "\n",
    "You can also run the following script, assuming you've specified `kg_project_name` above:"
   ]
  },
  {
   "cell_type": "code",
   "execution_count": null,
   "id": "53440565",
   "metadata": {},
   "outputs": [],
   "source": [
    "%%bash -s \"$kg_project_name\"\n",
    "mv project_name/ $1\n",
    "find . -name \"*.py\" | xargs -n 1 sed -i -e \"s|project_name|$1|g\""
   ]
  },
  {
   "cell_type": "markdown",
   "id": "7097a205",
   "metadata": {},
   "source": [
    "Next, update the `setup.py` file with some details about your project. You should only need to modify the first several lines of the `setup` block, as these define project metadata. Don't modify the value for `version` as that is defined elsewhere (specifically, in `project_name/__version__.py`). You may also need to change the value for `license` if you're using a license other than BSD-3. \n",
    "\n",
    "If you've defined metadata values in the \"Planning and setup\" section above, you may run the following, then copy and paste the result into your `setup.py` immediately under `setup(`:"
   ]
  },
  {
   "cell_type": "code",
   "execution_count": 11,
   "id": "72537b45",
   "metadata": {},
   "outputs": [
    {
     "name": "stdout",
     "output_type": "stream",
     "text": [
      "\n",
      "    name='kg_placeholder_name,\n",
      "    version=__version__,\n",
      "    description='',\n",
      "    long_description='',\n",
      "    url='https://github.com/Knowledge-Graph-Hub/kg-placeholder-name',\n",
      "    author='',\n",
      "    author_email='',\n",
      "    python_requires='>=3.7',\n",
      "\n"
     ]
    }
   ],
   "source": [
    "print( \n",
    "f\"\"\"\n",
    "    name='{kg_project_name},\n",
    "    version=__version__,\n",
    "    description='{description}',\n",
    "    long_description='{long_description}',\n",
    "    url='https://github.com/Knowledge-Graph-Hub/{kg_repo_name}',\n",
    "    author='{author_name}',\n",
    "    author_email='{author_email}',\n",
    "    python_requires='>=3.7',\n",
    "\"\"\"\n",
    ")"
   ]
  },
  {
   "cell_type": "markdown",
   "id": "264bc04e",
   "metadata": {},
   "source": [
    "Now it's all yours! Feel free to update the README, too."
   ]
  },
  {
   "cell_type": "markdown",
   "id": "0e5adb6c",
   "metadata": {},
   "source": [
    "## KGX format basics and the KGX config files"
   ]
  },
  {
   "cell_type": "markdown",
   "id": "2518f4c4",
   "metadata": {},
   "source": [
    "Two more steps remain before the KG is ready to be built: setting up the KGX configuration files (specifially, `download.yaml` and `merge.yaml`). You've likely noticed that the three primary stages in this pipeline are to download, transform, and merge. These two configuration files handle the first and last stages, respectively, but transforms are source-specific and each requires its own process. \n",
    "\n",
    "Our goal is to get all data in the same format - KGX tab-separated values - and adhering to the same data model. The next section will discuss the [Biolink Model](https://biolink.github.io/biolink-model/), but there isn't anything preventing you from reading about it now. In short, we need as much consistency as possible before combining sources into a single KG."
   ]
  },
  {
   "cell_type": "markdown",
   "id": "b6abc190",
   "metadata": {},
   "source": [
    "### The KGX format"
   ]
  },
  {
   "cell_type": "markdown",
   "id": "4762d5af",
   "metadata": {},
   "source": [
    "[You can find an exhaustive specification for the KGX data format here.](https://github.com/biolink/kgx/blob/master/specification/kgx-format.md)\n",
    "\n",
    "If you're already familiar with RDF, triples, and the idea of a [graph data model](https://www.w3.org/TR/2004/REC-rdf-concepts-20040210/#section-data-model) then this will all appear quite simple. If not, just consider nodes to be things and edges to be the relationships between those things. For example, a node may be a farmer and an edge may be a specific connection to something else which may or may not be the same type of thing, e.g., \"Farmer Alphonse *grows* lentils\".\n",
    "\n",
    "Here are the key points about KGX:\n",
    "* Each graph consists of one node file and one edge file.\n",
    "* Both files are tab-delimited and have a single header line each.\n",
    "* Both files contain one record per line - one node or one edge."
   ]
  },
  {
   "cell_type": "markdown",
   "id": "ef4ef92b",
   "metadata": {},
   "source": [
    "## Biolink basics"
   ]
  },
  {
   "cell_type": "markdown",
   "id": "a15ff61f",
   "metadata": {},
   "source": [
    "## Components of the KG assembly pipeline (ETL, mostly)"
   ]
  },
  {
   "cell_type": "markdown",
   "id": "a20c5b11",
   "metadata": {},
   "source": [
    "## How to write transforms for new sources (including w/ Koza)"
   ]
  },
  {
   "cell_type": "markdown",
   "id": "607b681c",
   "metadata": {},
   "source": [
    "### Retrieving source graphs from KG-Hub"
   ]
  },
  {
   "cell_type": "markdown",
   "id": "a4ff5f8b",
   "metadata": {},
   "source": [
    "## How and where to store results"
   ]
  },
  {
   "cell_type": "markdown",
   "id": "2d7f12c0",
   "metadata": {},
   "source": [
    "## Jenkins builds"
   ]
  },
  {
   "cell_type": "markdown",
   "id": "8c02fa2a",
   "metadata": {},
   "source": [
    "## Loading graphs with GraPE"
   ]
  },
  {
   "cell_type": "markdown",
   "id": "2b5be114",
   "metadata": {},
   "source": [
    "## Embeddings and basic ML approaches w/ NEAT"
   ]
  },
  {
   "cell_type": "code",
   "execution_count": null,
   "id": "a841d4eb",
   "metadata": {},
   "outputs": [],
   "source": []
  }
 ],
 "metadata": {
  "kernelspec": {
   "display_name": "Python 3 (ipykernel)",
   "language": "python",
   "name": "python3"
  },
  "language_info": {
   "codemirror_mode": {
    "name": "ipython",
    "version": 3
   },
   "file_extension": ".py",
   "mimetype": "text/x-python",
   "name": "python",
   "nbconvert_exporter": "python",
   "pygments_lexer": "ipython3",
   "version": "3.8.10"
  }
 },
 "nbformat": 4,
 "nbformat_minor": 5
}
