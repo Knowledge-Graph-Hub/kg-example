{
 "cells": [
  {
   "cell_type": "markdown",
   "id": "cae906ae",
   "metadata": {},
   "source": [
    "# KG-Hub: Getting Started (from scratch)"
   ]
  },
  {
   "cell_type": "markdown",
   "id": "2255d9f4",
   "metadata": {},
   "source": [
    "This notebook serves as a walkthrough for creating a KG-Hub project, building a new graph, and using the graph for machine learning. Some familiarity with the command line, GitHub, and Python will be helpful."
   ]
  },
  {
   "cell_type": "markdown",
   "id": "f316c89d",
   "metadata": {},
   "source": [
    "## Planning and setup"
   ]
  },
  {
   "cell_type": "markdown",
   "id": "40629ab9",
   "metadata": {},
   "source": [
    "You likely already found the KG-Hub project template repository - that's where this notebook is.\n",
    "If you found this someplace else, the template repository is https://github.com/Knowledge-Graph-Hub/kg-dtm-template.\n",
    "\n",
    "Make a new repository for your project, based on the template, in one of the following two ways:\n",
    "* [Follow the browser-based directions here.](https://docs.github.com/en/repositories/creating-and-managing-repositories/creating-a-repository-from-a-template)\n",
    "* Use the GitHub command line interface. This may be a preferable option if you're using a Windows command line and don't want to use a browser interface. Follow the [install instructions here](https://cli.github.com/manual/installation) as needed, then run:\n"
   ]
  },
  {
   "cell_type": "code",
   "execution_count": null,
   "id": "4c344976",
   "metadata": {},
   "outputs": [],
   "source": [
    "!cd ~/ \n",
    "!gh repo create kg-project-name --public --clone --template https://github.com/Knowledge-Graph-Hub/kg-dtm-template"
   ]
  },
  {
   "cell_type": "markdown",
   "id": "f48fe6e9",
   "metadata": {},
   "source": [
    "You will need to create a name for your project repository. The name of the project does not need to be identical to that of your repository, but it should be similar. Set the value for `kg_project_name` to that name here:"
   ]
  },
  {
   "cell_type": "code",
   "execution_count": 5,
   "id": "00bc73cb",
   "metadata": {},
   "outputs": [],
   "source": [
    "kg_project_name = \"kg_project_name\""
   ]
  },
  {
   "cell_type": "markdown",
   "id": "45350acb",
   "metadata": {},
   "source": [
    "## Walking through the KG project"
   ]
  },
  {
   "cell_type": "markdown",
   "id": "7e25f2ea",
   "metadata": {},
   "source": [
    "Each KG project in KG-Hub is generally structured like this (with some omissions for clarity):\n",
    "```\n",
    "📦kg-project-name\n",
    " ┣ 📂kg_project_name\n",
    " ┃ ┣ 📂merge_utils\n",
    " ┃ ┃ ┗ 📜merge_kg.py - this produces the final, merged KG\n",
    " ┃ ┣ 📂transform_utils - data source-specific transformation functions\n",
    " ┃ ┃ ┣ 📂transform_one\n",
    " ┃ ┃ ┃ ┗ 📜transform_one.py\n",
    " ┃ ┃ ┣ 📂transform_two\n",
    " ┃ ┃ ┃ ┗ 📜transform_two.py\n",
    " ┃ ┃ ┗ 📜transform.py - sets defaults for transform outputs\n",
    " ┃ ┣ 📂utils - utilities and helper functions\n",
    " ┃ ┃ ┣ 📜download_utils.py\n",
    " ┃ ┃ ┣ 📜robot_utils.py - utilities for working with the ROBOT tool\n",
    " ┃ ┃ ┗ 📜transform_utils.py\n",
    " ┃ ┣ 📜download.py \n",
    " ┃ ┗ 📜transform.py - sets up the individual transformations\n",
    " ┣ 📂tests\n",
    " ┃ ┣ 📂resources\n",
    " ┃ ┃ ┣ files required to run the tests\n",
    " ┃ ┣ various tests\n",
    " ┣ 📜LICENSE.txt\n",
    " ┣ 📜README.md - modify as needed\n",
    " ┣ 📜download.yaml - the download configuration file\n",
    " ┣ 📜merge.yaml - the merge configuration file\n",
    " ┣ 📜requirements.txt - empty by default, but add any new requirements here\n",
    " ┣ 📜run.py - the main interface for downloading, transforming, and merging\n",
    " ┗ 📜setup.py\n",
    "```"
   ]
  },
  {
   "cell_type": "markdown",
   "id": "84a06d5b",
   "metadata": {},
   "source": [
    "## Customizing your new KG project"
   ]
  },
  {
   "cell_type": "markdown",
   "id": "0e5adb6c",
   "metadata": {},
   "source": [
    "## KGX format basics and the KGX config files"
   ]
  },
  {
   "cell_type": "markdown",
   "id": "ef4ef92b",
   "metadata": {},
   "source": [
    "## Biolink basics"
   ]
  },
  {
   "cell_type": "markdown",
   "id": "a15ff61f",
   "metadata": {},
   "source": [
    "## Components of the KG assembly pipeline (ETL, mostly)"
   ]
  },
  {
   "cell_type": "markdown",
   "id": "a20c5b11",
   "metadata": {},
   "source": [
    "## How to write transforms for new sources (including w/ Koza)"
   ]
  },
  {
   "cell_type": "markdown",
   "id": "a4ff5f8b",
   "metadata": {},
   "source": [
    "## How and where to store results"
   ]
  },
  {
   "cell_type": "markdown",
   "id": "2d7f12c0",
   "metadata": {},
   "source": [
    "## Jenkins builds"
   ]
  },
  {
   "cell_type": "markdown",
   "id": "8c02fa2a",
   "metadata": {},
   "source": [
    "## Loading graphs with GraPE"
   ]
  },
  {
   "cell_type": "markdown",
   "id": "2b5be114",
   "metadata": {},
   "source": [
    "## Embeddings and basic ML approaches w/ NEAT"
   ]
  },
  {
   "cell_type": "code",
   "execution_count": null,
   "id": "a841d4eb",
   "metadata": {},
   "outputs": [],
   "source": []
  }
 ],
 "metadata": {
  "kernelspec": {
   "display_name": "Python 3 (ipykernel)",
   "language": "python",
   "name": "python3"
  },
  "language_info": {
   "codemirror_mode": {
    "name": "ipython",
    "version": 3
   },
   "file_extension": ".py",
   "mimetype": "text/x-python",
   "name": "python",
   "nbconvert_exporter": "python",
   "pygments_lexer": "ipython3",
   "version": "3.8.10"
  }
 },
 "nbformat": 4,
 "nbformat_minor": 5
}
