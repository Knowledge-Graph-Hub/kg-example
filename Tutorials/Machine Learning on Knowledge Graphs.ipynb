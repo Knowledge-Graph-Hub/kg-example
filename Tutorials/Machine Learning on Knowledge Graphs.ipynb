{
 "cells": [
  {
   "cell_type": "markdown",
   "id": "2e4c6c8a",
   "metadata": {},
   "source": [
    "# KG-Hub: Machine Learning on Knowledge Graphs"
   ]
  },
  {
   "cell_type": "markdown",
   "id": "aec58b04",
   "metadata": {},
   "source": [
    "## Loading graphs with GraPE"
   ]
  },
  {
   "cell_type": "markdown",
   "id": "dab8ccc3",
   "metadata": {},
   "source": [
    "Ensmallen, specifically"
   ]
  },
  {
   "cell_type": "markdown",
   "id": "fba34ad5",
   "metadata": {},
   "source": [
    "## Embeddings and basic ML approaches w/ NEAT"
   ]
  },
  {
   "cell_type": "markdown",
   "id": "708aabe9",
   "metadata": {},
   "source": [
    "* Intro to NEAT\n",
    "* Making a NEAT config"
   ]
  },
  {
   "cell_type": "code",
   "execution_count": null,
   "id": "b5ca60e0",
   "metadata": {},
   "outputs": [],
   "source": []
  }
 ],
 "metadata": {
  "kernelspec": {
   "display_name": "Python 3 (ipykernel)",
   "language": "python",
   "name": "python3"
  },
  "language_info": {
   "codemirror_mode": {
    "name": "ipython",
    "version": 3
   },
   "file_extension": ".py",
   "mimetype": "text/x-python",
   "name": "python",
   "nbconvert_exporter": "python",
   "pygments_lexer": "ipython3",
   "version": "3.8.10"
  }
 },
 "nbformat": 4,
 "nbformat_minor": 5
}
