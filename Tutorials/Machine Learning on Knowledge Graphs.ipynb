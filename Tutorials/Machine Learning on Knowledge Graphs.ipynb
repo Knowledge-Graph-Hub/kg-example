{
 "cells": [
  {
   "cell_type": "markdown",
   "id": "2e4c6c8a",
   "metadata": {},
   "source": [
    "# KG-Hub: Machine Learning on Knowledge Graphs"
   ]
  },
  {
   "cell_type": "markdown",
   "id": "ac6ff130",
   "metadata": {},
   "source": [
    "This walkthrough provides a basic introduction to preparing KG-Hub projects for graph-based machine learning and analysis. It assumes you have already set up a KG-Hub project and have produced a merged graph. The graph should be in the `/data/merged/` directory, named `merged-kg.tar.gz`, and be in KGX TSV format.\n",
    "\n",
    "If the merged graph is somewhere else, change the value for `merged_graph_path` below. Otherwise, just run that code block."
   ]
  },
  {
   "cell_type": "code",
   "execution_count": 10,
   "id": "c2356de0",
   "metadata": {},
   "outputs": [],
   "source": [
    "merged_graph_path = \"../data/merged/merged-kg.tar.gz\""
   ]
  },
  {
   "cell_type": "markdown",
   "id": "6d2b680a",
   "metadata": {},
   "source": [
    "If you don't already have a graph and just want to dive in, run this next block. It will download a copy of the MONDO disease ontology graph from KG-OBO. This is not the most exciting input, but it's small and will still work in the following examples."
   ]
  },
  {
   "cell_type": "code",
   "execution_count": null,
   "id": "2e8e4fa6",
   "metadata": {},
   "outputs": [],
   "source": [
    "!wget https://kg-hub.berkeleybop.io/kg-obo/mondo/2022-02-04/mondo_kgx_tsv.tar.gz\n",
    "merged_graph_path = \"./mondo_kgx_tsv.tar.gz\""
   ]
  },
  {
   "cell_type": "markdown",
   "id": "aec58b04",
   "metadata": {},
   "source": [
    "## Loading and processing graphs with GraPE"
   ]
  },
  {
   "cell_type": "markdown",
   "id": "dab8ccc3",
   "metadata": {},
   "source": [
    "The [Graph Processing and Embedding (GraPE) package](https://github.com/AnacletoLAB/grape) is a comprehensive toolbox for loading, processing, describing, and otherwise learning from graphs. It has two primary components: Ensmallen, which handles graph processing, and Embiggen, which produces embeddings. Working with large, complex graphs can be very computationally intensive, so the GraPE tools use a variety of strategies to optimize efficiency. They also work very well with KG-Hub graphs!\n",
    "\n",
    "[The full documentation for GraPE is here.](https://anacletolab.github.io/grape/index.html) You'll see that it offers a sizable collection of functions, so feel free to explore. There are also [tutorial notebooks](https://github.com/AnacletoLAB/grape/tree/main/tutorials) to peruse. For now, let's get GraPE ready, load a graph, and learn about its features."
   ]
  },
  {
   "cell_type": "markdown",
   "id": "f0670ffd",
   "metadata": {},
   "source": [
    "First, install GraPE with `pip`:"
   ]
  },
  {
   "cell_type": "code",
   "execution_count": 4,
   "id": "11f9142a",
   "metadata": {},
   "outputs": [
    {
     "name": "stdout",
     "output_type": "stream",
     "text": [
      "Requirement already satisfied: grape in /home/harry/kg-env/lib/python3.8/site-packages/grape-0.0.5-py3.8.egg (0.0.5)\n",
      "Requirement already satisfied: embiggen>=0.9.3 in /home/harry/kg-env/lib/python3.8/site-packages/embiggen-0.9.3-py3.8.egg (from grape) (0.9.3)\n",
      "Requirement already satisfied: ensmallen>=0.6.2 in /home/harry/kg-env/lib/python3.8/site-packages/ensmallen-0.6.6-py3.8-linux-x86_64.egg (from grape) (0.6.6)\n",
      "Requirement already satisfied: cache_decorator>=2.0.2 in /home/harry/kg-env/lib/python3.8/site-packages/cache_decorator-2.0.9-py3.8.egg (from embiggen>=0.9.3->grape) (2.0.9)\n",
      "Requirement already satisfied: ddd_subplots>=1.0.7 in /home/harry/kg-env/lib/python3.8/site-packages/ddd_subplots-1.0.9-py3.8.egg (from embiggen>=0.9.3->grape) (1.0.9)\n",
      "Requirement already satisfied: extra_keras_metrics>=2.0.2 in /home/harry/kg-env/lib/python3.8/site-packages/extra_keras_metrics-2.0.2-py3.8.egg (from embiggen>=0.9.3->grape) (2.0.2)\n",
      "Requirement already satisfied: keras_mixed_sequence>=1.0.27 in /home/harry/kg-env/lib/python3.8/site-packages/keras_mixed_sequence-1.0.27-py3.8.egg (from embiggen>=0.9.3->grape) (1.0.27)\n",
      "Requirement already satisfied: matplotlib in /home/harry/kg-env/lib/python3.8/site-packages/matplotlib-3.5.0rc1-py3.8-linux-x86_64.egg (from embiggen>=0.9.3->grape) (3.5.0rc1)\n",
      "Requirement already satisfied: numpy in /home/harry/kg-env/lib/python3.8/site-packages (from embiggen>=0.9.3->grape) (1.22.2)\n",
      "Requirement already satisfied: packaging in /home/harry/kg-env/lib/python3.8/site-packages (from embiggen>=0.9.3->grape) (21.3)\n",
      "Requirement already satisfied: pandas in /home/harry/kg-env/lib/python3.8/site-packages (from embiggen>=0.9.3->grape) (1.4.1)\n",
      "Requirement already satisfied: sanitize_ml_labels>=1.0.26 in /home/harry/kg-env/lib/python3.8/site-packages/sanitize_ml_labels-1.0.26-py3.8.egg (from embiggen>=0.9.3->grape) (1.0.26)\n",
      "Requirement already satisfied: sklearn in /home/harry/kg-env/lib/python3.8/site-packages/sklearn-0.0-py3.8.egg (from embiggen>=0.9.3->grape) (0.0)\n",
      "Requirement already satisfied: tqdm in /home/harry/kg-env/lib/python3.8/site-packages (from embiggen>=0.9.3->grape) (4.63.0)\n",
      "Requirement already satisfied: validate_version_code in /home/harry/kg-env/lib/python3.8/site-packages (from embiggen>=0.9.3->grape) (1.0.4)\n",
      "Requirement already satisfied: compress_json in /home/harry/kg-env/lib/python3.8/site-packages/compress_json-1.0.4-py3.8.egg (from ensmallen>=0.6.2->grape) (1.0.4)\n",
      "Requirement already satisfied: downloaders in /home/harry/kg-env/lib/python3.8/site-packages/downloaders-1.0.12-py3.8.egg (from ensmallen>=0.6.2->grape) (1.0.12)\n",
      "Requirement already satisfied: environments_utils in /home/harry/kg-env/lib/python3.8/site-packages/environments_utils-1.0.3-py3.8.egg (from ensmallen>=0.6.2->grape) (1.0.3)\n",
      "Requirement already satisfied: py-cpuinfo in /home/harry/kg-env/lib/python3.8/site-packages/py_cpuinfo-8.0.0-py3.8.egg (from ensmallen>=0.6.2->grape) (8.0.0)\n",
      "Requirement already satisfied: toml~=0.10.0 in /home/harry/kg-env/lib/python3.8/site-packages (from ensmallen>=0.6.2->grape) (0.10.2)\n",
      "Requirement already satisfied: userinput in /home/harry/kg-env/lib/python3.8/site-packages/userinput-1.0.15-py3.8.egg (from ensmallen>=0.6.2->grape) (1.0.15)\n",
      "Requirement already satisfied: compress_pickle>=2.0.1 in /home/harry/kg-env/lib/python3.8/site-packages/compress_pickle-2.1.0-py3.8.egg (from cache_decorator>=2.0.2->embiggen>=0.9.3->grape) (2.1.0)\n",
      "Requirement already satisfied: deflate_dict in /home/harry/kg-env/lib/python3.8/site-packages/deflate_dict-1.0.9-py3.8.egg (from cache_decorator>=2.0.2->embiggen>=0.9.3->grape) (1.0.9)\n",
      "Requirement already satisfied: dict_hash>=1.1.17 in /home/harry/kg-env/lib/python3.8/site-packages/dict_hash-1.1.19-py3.8.egg (from cache_decorator>=2.0.2->embiggen>=0.9.3->grape) (1.1.19)\n",
      "Requirement already satisfied: humanize>=3.4.1 in /home/harry/kg-env/lib/python3.8/site-packages/humanize-3.12.0-py3.8.egg (from cache_decorator>=2.0.2->embiggen>=0.9.3->grape) (3.12.0)\n",
      "Requirement already satisfied: imageio in /home/harry/kg-env/lib/python3.8/site-packages/imageio-2.10.1-py3.8.egg (from ddd_subplots>=1.0.7->embiggen>=0.9.3->grape) (2.10.1)\n",
      "Requirement already satisfied: pygifsicle in /home/harry/kg-env/lib/python3.8/site-packages/pygifsicle-1.0.5-py3.8.egg (from ddd_subplots>=1.0.7->embiggen>=0.9.3->grape) (1.0.5)\n",
      "Requirement already satisfied: decorator in /home/harry/kg-env/lib/python3.8/site-packages (from extra_keras_metrics>=2.0.2->embiggen>=0.9.3->grape) (5.1.1)\n",
      "Requirement already satisfied: cycler>=0.10 in /home/harry/kg-env/lib/python3.8/site-packages/cycler-0.10.0-py3.8.egg (from matplotlib->embiggen>=0.9.3->grape) (0.10.0)\n",
      "Requirement already satisfied: fonttools>=4.22.0 in /home/harry/kg-env/lib/python3.8/site-packages/fonttools-4.27.1-py3.8.egg (from matplotlib->embiggen>=0.9.3->grape) (4.27.1)\n",
      "Requirement already satisfied: kiwisolver>=1.0.1 in /home/harry/kg-env/lib/python3.8/site-packages/kiwisolver-1.3.2-py3.8-linux-x86_64.egg (from matplotlib->embiggen>=0.9.3->grape) (1.3.2)\n",
      "Requirement already satisfied: pillow>=6.2.0 in /home/harry/kg-env/lib/python3.8/site-packages/Pillow-8.4.0-py3.8-linux-x86_64.egg (from matplotlib->embiggen>=0.9.3->grape) (8.4.0)\n",
      "Requirement already satisfied: pyparsing>=2.2.1 in /home/harry/kg-env/lib/python3.8/site-packages (from matplotlib->embiggen>=0.9.3->grape) (3.0.7)\n",
      "Requirement already satisfied: python-dateutil>=2.7 in /home/harry/kg-env/lib/python3.8/site-packages (from matplotlib->embiggen>=0.9.3->grape) (2.8.2)\n",
      "Requirement already satisfied: setuptools-scm>=4 in /home/harry/kg-env/lib/python3.8/site-packages/setuptools_scm-6.3.2-py3.8.egg (from matplotlib->embiggen>=0.9.3->grape) (6.3.2)\n",
      "Requirement already satisfied: pytz>=2020.1 in /home/harry/kg-env/lib/python3.8/site-packages (from pandas->embiggen>=0.9.3->grape) (2021.3)\n",
      "Requirement already satisfied: scikit-learn in /home/harry/kg-env/lib/python3.8/site-packages/scikit_learn-1.0.1-py3.8-linux-x86_64.egg (from sklearn->embiggen>=0.9.3->grape) (1.0.1)\n",
      "Requirement already satisfied: IPy in /home/harry/kg-env/lib/python3.8/site-packages/IPy-1.1-py3.8.egg (from userinput->ensmallen>=0.6.2->grape) (1.1)\n",
      "Requirement already satisfied: ipython in /home/harry/kg-env/lib/python3.8/site-packages (from userinput->ensmallen>=0.6.2->grape) (8.1.1)\n",
      "Requirement already satisfied: validate_email in /home/harry/kg-env/lib/python3.8/site-packages/validate_email-1.3-py3.8.egg (from userinput->ensmallen>=0.6.2->grape) (1.3)\n",
      "Requirement already satisfied: validators in /home/harry/kg-env/lib/python3.8/site-packages (from userinput->ensmallen>=0.6.2->grape) (0.18.2)\n",
      "Requirement already satisfied: six in /home/harry/kg-env/lib/python3.8/site-packages (from cycler>=0.10->matplotlib->embiggen>=0.9.3->grape) (1.16.0)\n",
      "Requirement already satisfied: setuptools in /home/harry/kg-env/lib/python3.8/site-packages (from humanize>=3.4.1->cache_decorator>=2.0.2->embiggen>=0.9.3->grape) (60.9.3)\n",
      "Requirement already satisfied: tomli>=1.0.0 in /home/harry/kg-env/lib/python3.8/site-packages (from setuptools-scm>=4->matplotlib->embiggen>=0.9.3->grape) (1.2.3)\n",
      "Requirement already satisfied: matplotlib-inline in /home/harry/kg-env/lib/python3.8/site-packages/matplotlib_inline-0.1.3-py3.8.egg (from ipython->userinput->ensmallen>=0.6.2->grape) (0.1.3)\n",
      "Requirement already satisfied: traitlets>=5 in /home/harry/kg-env/lib/python3.8/site-packages/traitlets-5.1.1-py3.8.egg (from ipython->userinput->ensmallen>=0.6.2->grape) (5.1.1)\n",
      "Requirement already satisfied: pexpect>4.3 in /home/harry/kg-env/lib/python3.8/site-packages/pexpect-4.8.0-py3.8.egg (from ipython->userinput->ensmallen>=0.6.2->grape) (4.8.0)\n",
      "Requirement already satisfied: stack-data in /home/harry/kg-env/lib/python3.8/site-packages (from ipython->userinput->ensmallen>=0.6.2->grape) (0.2.0)\n",
      "Requirement already satisfied: pickleshare in /home/harry/kg-env/lib/python3.8/site-packages/pickleshare-0.7.5-py3.8.egg (from ipython->userinput->ensmallen>=0.6.2->grape) (0.7.5)\n",
      "Requirement already satisfied: jedi>=0.16 in /home/harry/kg-env/lib/python3.8/site-packages (from ipython->userinput->ensmallen>=0.6.2->grape) (0.18.1)\n",
      "Requirement already satisfied: prompt-toolkit!=3.0.0,!=3.0.1,<3.1.0,>=2.0.0 in /home/harry/kg-env/lib/python3.8/site-packages (from ipython->userinput->ensmallen>=0.6.2->grape) (3.0.28)\n",
      "Requirement already satisfied: backcall in /home/harry/kg-env/lib/python3.8/site-packages/backcall-0.2.0-py3.8.egg (from ipython->userinput->ensmallen>=0.6.2->grape) (0.2.0)\n",
      "Requirement already satisfied: pygments>=2.4.0 in /home/harry/kg-env/lib/python3.8/site-packages (from ipython->userinput->ensmallen>=0.6.2->grape) (2.11.2)\n"
     ]
    },
    {
     "name": "stdout",
     "output_type": "stream",
     "text": [
      "Requirement already satisfied: joblib>=0.11 in /home/harry/kg-env/lib/python3.8/site-packages (from scikit-learn->sklearn->embiggen>=0.9.3->grape) (1.0.1)\n",
      "Requirement already satisfied: scipy>=1.1.0 in /home/harry/kg-env/lib/python3.8/site-packages/scipy-1.7.1-py3.8-linux-x86_64.egg (from scikit-learn->sklearn->embiggen>=0.9.3->grape) (1.7.1)\n",
      "Requirement already satisfied: threadpoolctl>=2.0.0 in /home/harry/kg-env/lib/python3.8/site-packages/threadpoolctl-3.0.0-py3.8.egg (from scikit-learn->sklearn->embiggen>=0.9.3->grape) (3.0.0)\n",
      "Requirement already satisfied: parso<0.9.0,>=0.8.0 in /home/harry/kg-env/lib/python3.8/site-packages (from jedi>=0.16->ipython->userinput->ensmallen>=0.6.2->grape) (0.8.3)\n",
      "Requirement already satisfied: ptyprocess>=0.5 in /home/harry/kg-env/lib/python3.8/site-packages/ptyprocess-0.7.0-py3.8.egg (from pexpect>4.3->ipython->userinput->ensmallen>=0.6.2->grape) (0.7.0)\n",
      "Requirement already satisfied: wcwidth in /home/harry/kg-env/lib/python3.8/site-packages/wcwidth-0.2.5-py3.8.egg (from prompt-toolkit!=3.0.0,!=3.0.1,<3.1.0,>=2.0.0->ipython->userinput->ensmallen>=0.6.2->grape) (0.2.5)\n",
      "Requirement already satisfied: asttokens in /home/harry/kg-env/lib/python3.8/site-packages (from stack-data->ipython->userinput->ensmallen>=0.6.2->grape) (2.0.5)\n",
      "Requirement already satisfied: executing in /home/harry/kg-env/lib/python3.8/site-packages (from stack-data->ipython->userinput->ensmallen>=0.6.2->grape) (0.8.3)\n",
      "Requirement already satisfied: pure-eval in /home/harry/kg-env/lib/python3.8/site-packages (from stack-data->ipython->userinput->ensmallen>=0.6.2->grape) (0.2.2)\n",
      "\u001b[33mWARNING: You are using pip version 22.0.3; however, version 22.0.4 is available.\n",
      "You should consider upgrading via the '/home/harry/kg-env/bin/python -m pip install --upgrade pip' command.\u001b[0m\u001b[33m\n",
      "\u001b[0m"
     ]
    }
   ],
   "source": [
    "!pip install grape"
   ]
  },
  {
   "cell_type": "markdown",
   "id": "fbd97037",
   "metadata": {},
   "source": [
    "Every graph in Ensmallen is loaded as a `Graph` object, so we import that class:"
   ]
  },
  {
   "cell_type": "code",
   "execution_count": 5,
   "id": "81b04a6f",
   "metadata": {},
   "outputs": [],
   "source": [
    "from ensmallen import Graph"
   ]
  },
  {
   "cell_type": "markdown",
   "id": "bd6c8951",
   "metadata": {},
   "source": [
    "Decompress the graph, as Ensmallen will expect separate node and edge files. If your node and edge filenames differ from the values for `merged_node_filename` and `merged_edge_filename` below, please change them. "
   ]
  },
  {
   "cell_type": "code",
   "execution_count": 11,
   "id": "ddbbcb82",
   "metadata": {},
   "outputs": [
    {
     "name": "stdout",
     "output_type": "stream",
     "text": [
      "merged-kg_nodes.tsv\n",
      "merged-kg_edges.tsv\n"
     ]
    }
   ],
   "source": [
    "%%bash -s \"$merged_graph_path\"\n",
    "tar -xvf $1"
   ]
  },
  {
   "cell_type": "code",
   "execution_count": 13,
   "id": "519dcc12",
   "metadata": {},
   "outputs": [],
   "source": [
    "merged_node_filename = \"merged-kg_nodes.tsv\"\n",
    "merged_edge_filename = \"merged-kg_edges.tsv\""
   ]
  },
  {
   "cell_type": "markdown",
   "id": "3e0ef775",
   "metadata": {},
   "source": [
    "Load the graph with Ensmallen's `from_csv` (don't worry, we will tell it that these are tsv files, not csv):"
   ]
  },
  {
   "cell_type": "code",
   "execution_count": 16,
   "id": "3f58e6ed",
   "metadata": {
    "scrolled": false
   },
   "outputs": [
    {
     "data": {
      "text/html": [
       "<h2>A_Big_Graph</h2><p>The undirected graph A_Big_Graph has 196791 heterogenous nodes and 409416 edges.</p><h3>RAM requirements</h3><p>The RAM requirements for the nodes and edges data structures are 37.37MB and 1.85MB respectively.</p><h3>Degree centrality</h3><p>The minimum node degree is 0, the maximum node degree is 7344, the mode degree is 1, the mean degree is 4.16 and the node degree median is 1.</p><p>The nodes with highest degree centrality are: <a href='https://www.ebi.ac.uk/chebi/searchId.do?chebiId=CHEBI:24995' target='_blank' title='Go to CHEBI to get more informations about CHEBI:24995'>CHEBI:24995</a> (degree 7344 and node type <a href='https://biolink.github.io/biolink-model/docs/ChemicalSubstance.html' target='_blank' title='Go to BioLink to get more informations about biolink:ChemicalSubstance'>biolink:ChemicalSubstance</a>), <a href='https://www.ebi.ac.uk/chebi/searchId.do?chebiId=CHEBI:52898' target='_blank' title='Go to CHEBI to get more informations about CHEBI:52898'>CHEBI:52898</a> (degree 7262 and node type <a href='https://biolink.github.io/biolink-model/docs/ChemicalSubstance.html' target='_blank' title='Go to BioLink to get more informations about biolink:ChemicalSubstance'>biolink:ChemicalSubstance</a>), <a href='https://www.ebi.ac.uk/chebi/searchId.do?chebiId=CHEBI:16670' target='_blank' title='Go to CHEBI to get more informations about CHEBI:16670'>CHEBI:16670</a> (degree 6348 and node type <a href='https://biolink.github.io/biolink-model/docs/ChemicalSubstance|biolinkChemicalEntity|biolinkNamedThing.html' target='_blank' title='Go to BioLink to get more informations about biolink:ChemicalSubstance|biolink:ChemicalEntity|biolink:NamedThing'>biolink:ChemicalSubstance|biolink:ChemicalEntity|biolink:NamedThing</a>), <a href='https://www.ebi.ac.uk/chebi/searchId.do?chebiId=CHEBI:30616' target='_blank' title='Go to CHEBI to get more informations about CHEBI:30616'>CHEBI:30616</a> (degree 5514 and node type <a href='https://biolink.github.io/biolink-model/docs/ChemicalSubstance|biolinkChemicalEntity|biolinkNamedThing.html' target='_blank' title='Go to BioLink to get more informations about biolink:ChemicalSubstance|biolink:ChemicalEntity|biolink:NamedThing'>biolink:ChemicalSubstance|biolink:ChemicalEntity|biolink:NamedThing</a>) and <a href='https://www.ebi.ac.uk/chebi/searchId.do?chebiId=CHEBI:25212' target='_blank' title='Go to CHEBI to get more informations about CHEBI:25212'>CHEBI:25212</a> (degree 5362 and node type <a href='https://biolink.github.io/biolink-model/docs/ChemicalSubstance.html' target='_blank' title='Go to BioLink to get more informations about biolink:ChemicalSubstance'>biolink:ChemicalSubstance</a>).</p><h3>Disconnected nodes</h3><p>Disconnected nodes are nodes that are not connected to any other node.The graph contains 19075 disconnected nodes.</p><h4>Singleton nodes</h4><p>Singleton nodes are nodes with no edge to other nodes nor selfloops. The graph contains 19075 singleton nodes, which are <a href='https://www.ebi.ac.uk/chebi/searchId.do?chebiId=CHEBI:26550' target='_blank' title='Go to CHEBI to get more informations about CHEBI:26550'>CHEBI:26550</a> (node type <a href='https://biolink.github.io/biolink-model/docs/ChemicalSubstance.html' target='_blank' title='Go to BioLink to get more informations about biolink:ChemicalSubstance'>biolink:ChemicalSubstance</a>), <a href='https://www.ebi.ac.uk/chebi/searchId.do?chebiId=CHEBI:26521' target='_blank' title='Go to CHEBI to get more informations about CHEBI:26521'>CHEBI:26521</a> (node type <a href='https://biolink.github.io/biolink-model/docs/ChemicalSubstance.html' target='_blank' title='Go to BioLink to get more informations about biolink:ChemicalSubstance'>biolink:ChemicalSubstance</a>), <a href='https://www.ebi.ac.uk/chebi/searchId.do?chebiId=CHEBI:26532' target='_blank' title='Go to CHEBI to get more informations about CHEBI:26532'>CHEBI:26532</a> (node type <a href='https://biolink.github.io/biolink-model/docs/ChemicalSubstance.html' target='_blank' title='Go to BioLink to get more informations about biolink:ChemicalSubstance'>biolink:ChemicalSubstance</a>), <a href='https://www.ebi.ac.uk/chebi/searchId.do?chebiId=CHEBI:26505' target='_blank' title='Go to CHEBI to get more informations about CHEBI:26505'>CHEBI:26505</a> (node type <a href='https://biolink.github.io/biolink-model/docs/ChemicalSubstance.html' target='_blank' title='Go to BioLink to get more informations about biolink:ChemicalSubstance'>biolink:ChemicalSubstance</a>) and <a href='https://www.ebi.ac.uk/chebi/searchId.do?chebiId=CHEBI:9733' target='_blank' title='Go to CHEBI to get more informations about CHEBI:9733'>CHEBI:9733</a> (node type <a href='https://biolink.github.io/biolink-model/docs/ChemicalSubstance.html' target='_blank' title='Go to BioLink to get more informations about biolink:ChemicalSubstance'>biolink:ChemicalSubstance</a>), plus other 19070 singleton nodes.</p><h3>Node types</h3><p>The graph has 7 node types, of which the 5 most common are <a href='https://biolink.github.io/biolink-model/docs/ChemicalSubstance.html' target='_blank' title='Go to BioLink to get more informations about biolink:ChemicalSubstance'>biolink:ChemicalSubstance</a> (175200 nodes, 89.03%), <a href='https://biolink.github.io/biolink-model/docs/NamedThing|biolinkBiologicalProcess|biolinkBiologicalProcessOrActivity|biolinkPathway.html' target='_blank' title='Go to BioLink to get more informations about biolink:NamedThing|biolink:BiologicalProcess|biolink:BiologicalProcessOrActivity|biolink:Pathway'>biolink:NamedThing|biolink:BiologicalProcess|biolink:BiologicalProcessOrActivity|biolink:Pathway</a> (13391 nodes, 6.80%), <a href='https://biolink.github.io/biolink-model/docs/OntologyClass.html' target='_blank' title='Go to BioLink to get more informations about biolink:OntologyClass'>biolink:OntologyClass</a> (4981 nodes, 2.53%), <a href='https://biolink.github.io/biolink-model/docs/ChemicalSubstance|biolinkChemicalEntity|biolinkNamedThing.html' target='_blank' title='Go to BioLink to get more informations about biolink:ChemicalSubstance|biolink:ChemicalEntity|biolink:NamedThing'>biolink:ChemicalSubstance|biolink:ChemicalEntity|biolink:NamedThing</a> (2324 nodes, 1.18%) and <a href='https://biolink.github.io/biolink-model/docs/AnatomicalEntity.html' target='_blank' title='Go to BioLink to get more informations about biolink:AnatomicalEntity'>biolink:AnatomicalEntity</a> (690 nodes, 0.35%).</p><h4>RAM requirements</h4><p>The RAM requirements for the node types data structure is 9.84MB.</p>"
      ],
      "text/plain": [
       "<h2>A_Big_Graph</h2><p>The undirected graph A_Big_Graph has 196791 heterogenous nodes and 409416 edges.</p><h3>RAM requirements</h3><p>The RAM requirements for the nodes and edges data structures are 37.37MB and 1.85MB respectively.</p><h3>Degree centrality</h3><p>The minimum node degree is 0, the maximum node degree is 7344, the mode degree is 1, the mean degree is 4.16 and the node degree median is 1.</p><p>The nodes with highest degree centrality are: <a href='https://www.ebi.ac.uk/chebi/searchId.do?chebiId=CHEBI:24995' target='_blank' title='Go to CHEBI to get more informations about CHEBI:24995'>CHEBI:24995</a> (degree 7344 and node type <a href='https://biolink.github.io/biolink-model/docs/ChemicalSubstance.html' target='_blank' title='Go to BioLink to get more informations about biolink:ChemicalSubstance'>biolink:ChemicalSubstance</a>), <a href='https://www.ebi.ac.uk/chebi/searchId.do?chebiId=CHEBI:52898' target='_blank' title='Go to CHEBI to get more informations about CHEBI:52898'>CHEBI:52898</a> (degree 7262 and node type <a href='https://biolink.github.io/biolink-model/docs/ChemicalSubstance.html' target='_blank' title='Go to BioLink to get more informations about biolink:ChemicalSubstance'>biolink:ChemicalSubstance</a>), <a href='https://www.ebi.ac.uk/chebi/searchId.do?chebiId=CHEBI:16670' target='_blank' title='Go to CHEBI to get more informations about CHEBI:16670'>CHEBI:16670</a> (degree 6348 and node type <a href='https://biolink.github.io/biolink-model/docs/ChemicalSubstance|biolinkChemicalEntity|biolinkNamedThing.html' target='_blank' title='Go to BioLink to get more informations about biolink:ChemicalSubstance|biolink:ChemicalEntity|biolink:NamedThing'>biolink:ChemicalSubstance|biolink:ChemicalEntity|biolink:NamedThing</a>), <a href='https://www.ebi.ac.uk/chebi/searchId.do?chebiId=CHEBI:30616' target='_blank' title='Go to CHEBI to get more informations about CHEBI:30616'>CHEBI:30616</a> (degree 5514 and node type <a href='https://biolink.github.io/biolink-model/docs/ChemicalSubstance|biolinkChemicalEntity|biolinkNamedThing.html' target='_blank' title='Go to BioLink to get more informations about biolink:ChemicalSubstance|biolink:ChemicalEntity|biolink:NamedThing'>biolink:ChemicalSubstance|biolink:ChemicalEntity|biolink:NamedThing</a>) and <a href='https://www.ebi.ac.uk/chebi/searchId.do?chebiId=CHEBI:25212' target='_blank' title='Go to CHEBI to get more informations about CHEBI:25212'>CHEBI:25212</a> (degree 5362 and node type <a href='https://biolink.github.io/biolink-model/docs/ChemicalSubstance.html' target='_blank' title='Go to BioLink to get more informations about biolink:ChemicalSubstance'>biolink:ChemicalSubstance</a>).</p><h3>Disconnected nodes</h3><p>Disconnected nodes are nodes that are not connected to any other node.The graph contains 19075 disconnected nodes.</p><h4>Singleton nodes</h4><p>Singleton nodes are nodes with no edge to other nodes nor selfloops. The graph contains 19075 singleton nodes, which are <a href='https://www.ebi.ac.uk/chebi/searchId.do?chebiId=CHEBI:26550' target='_blank' title='Go to CHEBI to get more informations about CHEBI:26550'>CHEBI:26550</a> (node type <a href='https://biolink.github.io/biolink-model/docs/ChemicalSubstance.html' target='_blank' title='Go to BioLink to get more informations about biolink:ChemicalSubstance'>biolink:ChemicalSubstance</a>), <a href='https://www.ebi.ac.uk/chebi/searchId.do?chebiId=CHEBI:26521' target='_blank' title='Go to CHEBI to get more informations about CHEBI:26521'>CHEBI:26521</a> (node type <a href='https://biolink.github.io/biolink-model/docs/ChemicalSubstance.html' target='_blank' title='Go to BioLink to get more informations about biolink:ChemicalSubstance'>biolink:ChemicalSubstance</a>), <a href='https://www.ebi.ac.uk/chebi/searchId.do?chebiId=CHEBI:26532' target='_blank' title='Go to CHEBI to get more informations about CHEBI:26532'>CHEBI:26532</a> (node type <a href='https://biolink.github.io/biolink-model/docs/ChemicalSubstance.html' target='_blank' title='Go to BioLink to get more informations about biolink:ChemicalSubstance'>biolink:ChemicalSubstance</a>), <a href='https://www.ebi.ac.uk/chebi/searchId.do?chebiId=CHEBI:26505' target='_blank' title='Go to CHEBI to get more informations about CHEBI:26505'>CHEBI:26505</a> (node type <a href='https://biolink.github.io/biolink-model/docs/ChemicalSubstance.html' target='_blank' title='Go to BioLink to get more informations about biolink:ChemicalSubstance'>biolink:ChemicalSubstance</a>) and <a href='https://www.ebi.ac.uk/chebi/searchId.do?chebiId=CHEBI:9733' target='_blank' title='Go to CHEBI to get more informations about CHEBI:9733'>CHEBI:9733</a> (node type <a href='https://biolink.github.io/biolink-model/docs/ChemicalSubstance.html' target='_blank' title='Go to BioLink to get more informations about biolink:ChemicalSubstance'>biolink:ChemicalSubstance</a>), plus other 19070 singleton nodes.</p><h3>Node types</h3><p>The graph has 7 node types, of which the 5 most common are <a href='https://biolink.github.io/biolink-model/docs/ChemicalSubstance.html' target='_blank' title='Go to BioLink to get more informations about biolink:ChemicalSubstance'>biolink:ChemicalSubstance</a> (175200 nodes, 89.03%), <a href='https://biolink.github.io/biolink-model/docs/NamedThing|biolinkBiologicalProcess|biolinkBiologicalProcessOrActivity|biolinkPathway.html' target='_blank' title='Go to BioLink to get more informations about biolink:NamedThing|biolink:BiologicalProcess|biolink:BiologicalProcessOrActivity|biolink:Pathway'>biolink:NamedThing|biolink:BiologicalProcess|biolink:BiologicalProcessOrActivity|biolink:Pathway</a> (13391 nodes, 6.80%), <a href='https://biolink.github.io/biolink-model/docs/OntologyClass.html' target='_blank' title='Go to BioLink to get more informations about biolink:OntologyClass'>biolink:OntologyClass</a> (4981 nodes, 2.53%), <a href='https://biolink.github.io/biolink-model/docs/ChemicalSubstance|biolinkChemicalEntity|biolinkNamedThing.html' target='_blank' title='Go to BioLink to get more informations about biolink:ChemicalSubstance|biolink:ChemicalEntity|biolink:NamedThing'>biolink:ChemicalSubstance|biolink:ChemicalEntity|biolink:NamedThing</a> (2324 nodes, 1.18%) and <a href='https://biolink.github.io/biolink-model/docs/AnatomicalEntity.html' target='_blank' title='Go to BioLink to get more informations about biolink:AnatomicalEntity'>biolink:AnatomicalEntity</a> (690 nodes, 0.35%).</p><h4>RAM requirements</h4><p>The RAM requirements for the node types data structure is 9.84MB.</p>"
      ]
     },
     "execution_count": 16,
     "metadata": {},
     "output_type": "execute_result"
    }
   ],
   "source": [
    "a_big_graph = Graph.from_csv(\n",
    "    node_path=merged_node_filename,\n",
    "    edge_path=merged_edge_filename,\n",
    "    node_list_separator=\"\\t\",\n",
    "    edge_list_separator=\"\\t\",\n",
    "    node_list_header=True,  # Always true for KG-Hub KGs\n",
    "    edge_list_header=True,  # Always true for KG-Hub KGs\n",
    "    nodes_column='id',  # Always true for KG-Hub KGs\n",
    "    node_list_node_types_column='category',  # Always true for KG-Hub KGs\n",
    "    sources_column='subject',  # Always true for KG-Hub KGs\n",
    "    destinations_column='object',  # Always true for KG-Hub KGs\n",
    "    directed=False,\n",
    "    name=\"A_Big_Graph\",\n",
    "    verbose=True\n",
    ")\n",
    "\n",
    "a_big_graph"
   ]
  },
  {
   "cell_type": "markdown",
   "id": "606e4886",
   "metadata": {},
   "source": [
    "Great, now we've loaded a graph and have some general ideas about its contents.\n",
    "\n",
    "We can retrieve the total count of connected nodes (i.e., exclude all disconnected nodes from the count):"
   ]
  },
  {
   "cell_type": "code",
   "execution_count": 18,
   "id": "53532051",
   "metadata": {},
   "outputs": [
    {
     "data": {
      "text/plain": [
       "177716"
      ]
     },
     "execution_count": 18,
     "metadata": {},
     "output_type": "execute_result"
    }
   ],
   "source": [
    "a_big_graph.get_connected_nodes_number()"
   ]
  },
  {
   "cell_type": "markdown",
   "id": "c8a92a27",
   "metadata": {},
   "source": []
  },
  {
   "cell_type": "code",
   "execution_count": 19,
   "id": "00265604",
   "metadata": {},
   "outputs": [
    {
     "data": {
      "text/plain": [
       "7344"
      ]
     },
     "execution_count": 19,
     "metadata": {},
     "output_type": "execute_result"
    }
   ],
   "source": [
    "a_big_graph.get_maximum_node_degree()"
   ]
  },
  {
   "cell_type": "markdown",
   "id": "fba34ad5",
   "metadata": {},
   "source": [
    "## Embeddings and basic ML approaches w/ NEAT"
   ]
  },
  {
   "cell_type": "code",
   "execution_count": null,
   "id": "86b93008",
   "metadata": {},
   "outputs": [],
   "source": []
  },
  {
   "cell_type": "markdown",
   "id": "708aabe9",
   "metadata": {},
   "source": [
    "* Intro to NEAT\n",
    "* Making a NEAT config"
   ]
  },
  {
   "cell_type": "code",
   "execution_count": null,
   "id": "b5ca60e0",
   "metadata": {},
   "outputs": [],
   "source": []
  }
 ],
 "metadata": {
  "kernelspec": {
   "display_name": "Python 3 (ipykernel)",
   "language": "python",
   "name": "python3"
  },
  "language_info": {
   "codemirror_mode": {
    "name": "ipython",
    "version": 3
   },
   "file_extension": ".py",
   "mimetype": "text/x-python",
   "name": "python",
   "nbconvert_exporter": "python",
   "pygments_lexer": "ipython3",
   "version": "3.8.10"
  }
 },
 "nbformat": 4,
 "nbformat_minor": 5
}
